{
 "cells": [
  {
   "cell_type": "markdown",
   "metadata": {
    "id": "P3qNryfuKeI8"
   },
   "source": [
    "# Практическая работа 2. Источники данных. Извлечение данных"
   ]
  },
  {
   "cell_type": "markdown",
   "metadata": {
    "id": "_2zMItYSgrbH"
   },
   "source": [
    "ФИО: Аросев Максим Георгиевич\n",
    "\n",
    "Группа: БД-231м"
   ]
  },
  {
   "cell_type": "markdown",
   "metadata": {},
   "source": [
    "## Задание 2.1"
   ]
  },
  {
   "cell_type": "markdown",
   "metadata": {
    "id": "gYQNmI_PKWOP"
   },
   "source": [
    "Используем данные из открытого источника для `CSV`, `Parquet` и `API`, а также вручную подготовим данные для баз данных и HTML  из открытых данных (доступно по адресу https://data.cityofnewyork.us)."
   ]
  },
  {
   "cell_type": "code",
   "execution_count": 1,
   "metadata": {
    "id": "nT98csOGMCHT"
   },
   "outputs": [],
   "source": [
    "# import modules\n",
    "import certifi\n",
    "import json\n",
    "import pandas as pd\n",
    "import numpy as np\n",
    "import matplotlib.pyplot as plt\n",
    "import sqlite3\n",
    "import urllib3\n",
    "from urllib3 import request\n",
    "from unicodedata import normalize"
   ]
  },
  {
   "cell_type": "markdown",
   "metadata": {
    "id": "gELKRi7_LbcR"
   },
   "source": [
    "Файлы данных могут быть получены откуда угодно: от файлов, хранящихся локально на вашем устройстве, до файловых систем облачного хранилища.\n",
    "\n",
    "Даже при работе в основном с базами данных или внешними `API` использование физических файлов — отличный способ легко использовать данные с метками времени, что может пригодиться при любых временных проблемах с подключением."
   ]
  },
  {
   "cell_type": "code",
   "execution_count": 2,
   "metadata": {
    "id": "VcorFH1UIxRv"
   },
   "outputs": [],
   "source": [
    "# Загрузите данные с портала открытых данных Правительства Москвы —\n",
    "# данные о Wi-Fi в кинотеатрах, введя в браузер следующий URL-адрес: https://data.mos.ru/opendata/60789?isDynamic=false.\n",
    "# Будет загружен CSV-файл *.csv. Сохраните этот файл.\n",
    "# прочитать данные CSV, используя команду Pandas pd.read_csv() в качестве df DataFrame, затем выберите первые пять строк DataFrame с помощью df.head()."
   ]
  },
  {
   "cell_type": "markdown",
   "metadata": {
    "id": "ea8l3d-XMYvH"
   },
   "source": [
    "**Задание 2.1.** Зайти на сайт URL-адрес: https://data.mos.ru/opendata/60789?isDynamic=false\n",
    "\n",
    "**Задание 2.2.** Загрузить данные о `Wi-Fi в кинотеатрах`.\n",
    "\n",
    "**Задание 2.3.** Считайте данные из файла CSV. Использовать метод `pandas read_csv` для простоты и скорости."
   ]
  },
  {
   "cell_type": "code",
   "execution_count": 2,
   "metadata": {
    "colab": {
     "base_uri": "https://localhost:8080/",
     "height": 486
    },
    "id": "BlGgzX6-MORB",
    "outputId": "b2a6a9ac-16a5-46ef-a3ac-2010264b2962"
   },
   "outputs": [
    {
     "data": {
      "text/html": [
       "<div>\n",
       "<style scoped>\n",
       "    .dataframe tbody tr th:only-of-type {\n",
       "        vertical-align: middle;\n",
       "    }\n",
       "\n",
       "    .dataframe tbody tr th {\n",
       "        vertical-align: top;\n",
       "    }\n",
       "\n",
       "    .dataframe thead th {\n",
       "        text-align: right;\n",
       "    }\n",
       "</style>\n",
       "<table border=\"1\" class=\"dataframe\">\n",
       "  <thead>\n",
       "    <tr style=\"text-align: right;\">\n",
       "      <th></th>\n",
       "      <th>global_id</th>\n",
       "      <th>ID</th>\n",
       "      <th>CinemaName</th>\n",
       "      <th>AdmArea</th>\n",
       "      <th>District</th>\n",
       "      <th>Address</th>\n",
       "      <th>NumberOfAccessPoints</th>\n",
       "      <th>WiFiName</th>\n",
       "      <th>CoverageArea</th>\n",
       "      <th>FunctionFlag</th>\n",
       "      <th>AccessFlag</th>\n",
       "      <th>Password</th>\n",
       "      <th>Latitude_WGS84</th>\n",
       "      <th>Longitude_WGS84</th>\n",
       "      <th>geoData</th>\n",
       "      <th>geodata_center</th>\n",
       "      <th>Unnamed: 16</th>\n",
       "    </tr>\n",
       "  </thead>\n",
       "  <tbody>\n",
       "    <tr>\n",
       "      <th>0</th>\n",
       "      <td>global_id</td>\n",
       "      <td>Код</td>\n",
       "      <td>Наименование кинотеатра</td>\n",
       "      <td>Административный округ</td>\n",
       "      <td>Район</td>\n",
       "      <td>Адрес</td>\n",
       "      <td>Количество точек доступа</td>\n",
       "      <td>Имя Wi-Fi сети</td>\n",
       "      <td>Зона покрытия, в метрах</td>\n",
       "      <td>Признак функционирования</td>\n",
       "      <td>Условия доступа</td>\n",
       "      <td>Пароль</td>\n",
       "      <td>Широта в WGS-84</td>\n",
       "      <td>Долгота в WGS-84</td>\n",
       "      <td>geoData</td>\n",
       "      <td>geodata_center</td>\n",
       "      <td>NaN</td>\n",
       "    </tr>\n",
       "    <tr>\n",
       "      <th>1</th>\n",
       "      <td>879791944</td>\n",
       "      <td>1</td>\n",
       "      <td>Государственное бюджетное учреждение культуры ...</td>\n",
       "      <td>Северо-Восточный административный округ</td>\n",
       "      <td>Останкинский район</td>\n",
       "      <td>Российская Федерация, город Москва, внутригоро...</td>\n",
       "      <td>7</td>\n",
       "      <td>Moscow_WiFi_Free</td>\n",
       "      <td>50</td>\n",
       "      <td>действует</td>\n",
       "      <td>открытая сеть</td>\n",
       "      <td>NaN</td>\n",
       "      <td>55.818675</td>\n",
       "      <td>37.636778</td>\n",
       "      <td>{coordinates=[37.636778, 55.818675], type=Point}</td>\n",
       "      <td>NaN</td>\n",
       "      <td>NaN</td>\n",
       "    </tr>\n",
       "    <tr>\n",
       "      <th>2</th>\n",
       "      <td>879791951</td>\n",
       "      <td>3</td>\n",
       "      <td>Государственное бюджетное учреждение культуры ...</td>\n",
       "      <td>Юго-Восточный административный округ</td>\n",
       "      <td>район Печатники</td>\n",
       "      <td>город Москва, улица Кухмистерова, дом 4</td>\n",
       "      <td>8</td>\n",
       "      <td>Moscow_WiFi_Free</td>\n",
       "      <td>50</td>\n",
       "      <td>действует</td>\n",
       "      <td>открытая сеть</td>\n",
       "      <td>NaN</td>\n",
       "      <td>55.685873</td>\n",
       "      <td>37.718534</td>\n",
       "      <td>{coordinates=[37.718534, 55.685873], type=Point}</td>\n",
       "      <td>NaN</td>\n",
       "      <td>NaN</td>\n",
       "    </tr>\n",
       "    <tr>\n",
       "      <th>3</th>\n",
       "      <td>879791953</td>\n",
       "      <td>4</td>\n",
       "      <td>Государственное бюджетное учреждение культуры ...</td>\n",
       "      <td>Юго-Восточный административный округ</td>\n",
       "      <td>район Текстильщики</td>\n",
       "      <td>Российская Федерация, город Москва, внутригоро...</td>\n",
       "      <td>6</td>\n",
       "      <td>Moscow_WiFi_Free</td>\n",
       "      <td>50</td>\n",
       "      <td>действует</td>\n",
       "      <td>открытая сеть</td>\n",
       "      <td>NaN</td>\n",
       "      <td>55.710864</td>\n",
       "      <td>37.731299</td>\n",
       "      <td>{coordinates=[37.731299, 55.710864], type=Point}</td>\n",
       "      <td>NaN</td>\n",
       "      <td>NaN</td>\n",
       "    </tr>\n",
       "    <tr>\n",
       "      <th>4</th>\n",
       "      <td>879791961</td>\n",
       "      <td>7</td>\n",
       "      <td>Государственное бюджетное учреждение культуры ...</td>\n",
       "      <td>Северный административный округ</td>\n",
       "      <td>Тимирязевский район</td>\n",
       "      <td>Российская Федерация, город Москва, внутригоро...</td>\n",
       "      <td>3</td>\n",
       "      <td>Moscow_WiFi_Free</td>\n",
       "      <td>50</td>\n",
       "      <td>действует</td>\n",
       "      <td>открытая сеть</td>\n",
       "      <td>NaN</td>\n",
       "      <td>55.814406</td>\n",
       "      <td>37.571210</td>\n",
       "      <td>{coordinates=[37.57121, 55.814406], type=Point}</td>\n",
       "      <td>NaN</td>\n",
       "      <td>NaN</td>\n",
       "    </tr>\n",
       "  </tbody>\n",
       "</table>\n",
       "</div>"
      ],
      "text/plain": [
       "   global_id   ID                                         CinemaName  \\\n",
       "0  global_id  Код                            Наименование кинотеатра   \n",
       "1  879791944    1  Государственное бюджетное учреждение культуры ...   \n",
       "2  879791951    3  Государственное бюджетное учреждение культуры ...   \n",
       "3  879791953    4  Государственное бюджетное учреждение культуры ...   \n",
       "4  879791961    7  Государственное бюджетное учреждение культуры ...   \n",
       "\n",
       "                                   AdmArea             District  \\\n",
       "0                   Административный округ                Район   \n",
       "1  Северо-Восточный административный округ   Останкинский район   \n",
       "2     Юго-Восточный административный округ      район Печатники   \n",
       "3     Юго-Восточный административный округ   район Текстильщики   \n",
       "4          Северный административный округ  Тимирязевский район   \n",
       "\n",
       "                                             Address  \\\n",
       "0                                              Адрес   \n",
       "1  Российская Федерация, город Москва, внутригоро...   \n",
       "2            город Москва, улица Кухмистерова, дом 4   \n",
       "3  Российская Федерация, город Москва, внутригоро...   \n",
       "4  Российская Федерация, город Москва, внутригоро...   \n",
       "\n",
       "       NumberOfAccessPoints          WiFiName             CoverageArea  \\\n",
       "0  Количество точек доступа    Имя Wi-Fi сети  Зона покрытия, в метрах   \n",
       "1                         7  Moscow_WiFi_Free                       50   \n",
       "2                         8  Moscow_WiFi_Free                       50   \n",
       "3                         6  Moscow_WiFi_Free                       50   \n",
       "4                         3  Moscow_WiFi_Free                       50   \n",
       "\n",
       "               FunctionFlag       AccessFlag Password   Latitude_WGS84  \\\n",
       "0  Признак функционирования  Условия доступа   Пароль  Широта в WGS-84   \n",
       "1                 действует    открытая сеть      NaN        55.818675   \n",
       "2                 действует    открытая сеть      NaN        55.685873   \n",
       "3                 действует    открытая сеть      NaN        55.710864   \n",
       "4                 действует    открытая сеть      NaN        55.814406   \n",
       "\n",
       "    Longitude_WGS84                                           geoData  \\\n",
       "0  Долгота в WGS-84                                           geoData   \n",
       "1         37.636778  {coordinates=[37.636778, 55.818675], type=Point}   \n",
       "2         37.718534  {coordinates=[37.718534, 55.685873], type=Point}   \n",
       "3         37.731299  {coordinates=[37.731299, 55.710864], type=Point}   \n",
       "4         37.571210   {coordinates=[37.57121, 55.814406], type=Point}   \n",
       "\n",
       "   geodata_center  Unnamed: 16  \n",
       "0  geodata_center          NaN  \n",
       "1             NaN          NaN  \n",
       "2             NaN          NaN  \n",
       "3             NaN          NaN  \n",
       "4             NaN          NaN  "
      ]
     },
     "execution_count": 2,
     "metadata": {},
     "output_type": "execute_result"
    }
   ],
   "source": [
    "df_csv = pd.read_csv(r\"D:\\Maxim\\Магистратура\\Босенко\\Управление большими данными\\Практическая 2\\data-60789-2024-01-24.csv\", delimiter=';')\n",
    "df_csv.head()"
   ]
  },
  {
   "cell_type": "markdown",
   "metadata": {
    "id": "5WdAK8nhSas0"
   },
   "source": [
    "**Задание 2.4.** Так как первая строка включает определение столбцов, удалить строку с `index=0`."
   ]
  },
  {
   "cell_type": "code",
   "execution_count": 3,
   "metadata": {
    "id": "lUqpf79kSN_p"
   },
   "outputs": [],
   "source": [
    "data = df_csv.drop(df_csv.index[0])"
   ]
  },
  {
   "cell_type": "code",
   "execution_count": 4,
   "metadata": {
    "colab": {
     "base_uri": "https://localhost:8080/",
     "height": 1000
    },
    "id": "xYi52qTBST3k",
    "outputId": "e9d71ff8-a98f-44d0-b90d-eeb48b51c40b"
   },
   "outputs": [
    {
     "data": {
      "text/html": [
       "<div>\n",
       "<style scoped>\n",
       "    .dataframe tbody tr th:only-of-type {\n",
       "        vertical-align: middle;\n",
       "    }\n",
       "\n",
       "    .dataframe tbody tr th {\n",
       "        vertical-align: top;\n",
       "    }\n",
       "\n",
       "    .dataframe thead th {\n",
       "        text-align: right;\n",
       "    }\n",
       "</style>\n",
       "<table border=\"1\" class=\"dataframe\">\n",
       "  <thead>\n",
       "    <tr style=\"text-align: right;\">\n",
       "      <th></th>\n",
       "      <th>global_id</th>\n",
       "      <th>ID</th>\n",
       "      <th>CinemaName</th>\n",
       "      <th>AdmArea</th>\n",
       "      <th>District</th>\n",
       "      <th>Address</th>\n",
       "      <th>NumberOfAccessPoints</th>\n",
       "      <th>WiFiName</th>\n",
       "      <th>CoverageArea</th>\n",
       "      <th>FunctionFlag</th>\n",
       "      <th>AccessFlag</th>\n",
       "      <th>Password</th>\n",
       "      <th>Latitude_WGS84</th>\n",
       "      <th>Longitude_WGS84</th>\n",
       "      <th>geoData</th>\n",
       "      <th>geodata_center</th>\n",
       "      <th>Unnamed: 16</th>\n",
       "    </tr>\n",
       "  </thead>\n",
       "  <tbody>\n",
       "    <tr>\n",
       "      <th>1</th>\n",
       "      <td>879791944</td>\n",
       "      <td>1</td>\n",
       "      <td>Государственное бюджетное учреждение культуры ...</td>\n",
       "      <td>Северо-Восточный административный округ</td>\n",
       "      <td>Останкинский район</td>\n",
       "      <td>Российская Федерация, город Москва, внутригоро...</td>\n",
       "      <td>7</td>\n",
       "      <td>Moscow_WiFi_Free</td>\n",
       "      <td>50</td>\n",
       "      <td>действует</td>\n",
       "      <td>открытая сеть</td>\n",
       "      <td>NaN</td>\n",
       "      <td>55.818675</td>\n",
       "      <td>37.636778</td>\n",
       "      <td>{coordinates=[37.636778, 55.818675], type=Point}</td>\n",
       "      <td>NaN</td>\n",
       "      <td>NaN</td>\n",
       "    </tr>\n",
       "    <tr>\n",
       "      <th>2</th>\n",
       "      <td>879791951</td>\n",
       "      <td>3</td>\n",
       "      <td>Государственное бюджетное учреждение культуры ...</td>\n",
       "      <td>Юго-Восточный административный округ</td>\n",
       "      <td>район Печатники</td>\n",
       "      <td>город Москва, улица Кухмистерова, дом 4</td>\n",
       "      <td>8</td>\n",
       "      <td>Moscow_WiFi_Free</td>\n",
       "      <td>50</td>\n",
       "      <td>действует</td>\n",
       "      <td>открытая сеть</td>\n",
       "      <td>NaN</td>\n",
       "      <td>55.685873</td>\n",
       "      <td>37.718534</td>\n",
       "      <td>{coordinates=[37.718534, 55.685873], type=Point}</td>\n",
       "      <td>NaN</td>\n",
       "      <td>NaN</td>\n",
       "    </tr>\n",
       "  </tbody>\n",
       "</table>\n",
       "</div>"
      ],
      "text/plain": [
       "   global_id ID                                         CinemaName  \\\n",
       "1  879791944  1  Государственное бюджетное учреждение культуры ...   \n",
       "2  879791951  3  Государственное бюджетное учреждение культуры ...   \n",
       "\n",
       "                                   AdmArea            District  \\\n",
       "1  Северо-Восточный административный округ  Останкинский район   \n",
       "2     Юго-Восточный административный округ     район Печатники   \n",
       "\n",
       "                                             Address NumberOfAccessPoints  \\\n",
       "1  Российская Федерация, город Москва, внутригоро...                    7   \n",
       "2            город Москва, улица Кухмистерова, дом 4                    8   \n",
       "\n",
       "           WiFiName CoverageArea FunctionFlag     AccessFlag Password  \\\n",
       "1  Moscow_WiFi_Free           50    действует  открытая сеть      NaN   \n",
       "2  Moscow_WiFi_Free           50    действует  открытая сеть      NaN   \n",
       "\n",
       "  Latitude_WGS84 Longitude_WGS84  \\\n",
       "1      55.818675       37.636778   \n",
       "2      55.685873       37.718534   \n",
       "\n",
       "                                            geoData geodata_center  \\\n",
       "1  {coordinates=[37.636778, 55.818675], type=Point}            NaN   \n",
       "2  {coordinates=[37.718534, 55.685873], type=Point}            NaN   \n",
       "\n",
       "   Unnamed: 16  \n",
       "1          NaN  \n",
       "2          NaN  "
      ]
     },
     "execution_count": 4,
     "metadata": {},
     "output_type": "execute_result"
    }
   ],
   "source": [
    "data.head(2)"
   ]
  },
  {
   "cell_type": "code",
   "execution_count": 5,
   "metadata": {},
   "outputs": [
    {
     "name": "stdout",
     "output_type": "stream",
     "text": [
      "<class 'pandas.core.frame.DataFrame'>\n",
      "RangeIndex: 12 entries, 0 to 11\n",
      "Data columns (total 17 columns):\n",
      " #   Column                Non-Null Count  Dtype  \n",
      "---  ------                --------------  -----  \n",
      " 0   global_id             12 non-null     object \n",
      " 1   ID                    12 non-null     object \n",
      " 2   CinemaName            12 non-null     object \n",
      " 3   AdmArea               12 non-null     object \n",
      " 4   District              12 non-null     object \n",
      " 5   Address               12 non-null     object \n",
      " 6   NumberOfAccessPoints  12 non-null     object \n",
      " 7   WiFiName              12 non-null     object \n",
      " 8   CoverageArea          12 non-null     object \n",
      " 9   FunctionFlag          12 non-null     object \n",
      " 10  AccessFlag            12 non-null     object \n",
      " 11  Password              1 non-null      object \n",
      " 12  Latitude_WGS84        12 non-null     object \n",
      " 13  Longitude_WGS84       12 non-null     object \n",
      " 14  geoData               12 non-null     object \n",
      " 15  geodata_center        1 non-null      object \n",
      " 16  Unnamed: 16           0 non-null      float64\n",
      "dtypes: float64(1), object(16)\n",
      "memory usage: 1.7+ KB\n"
     ]
    }
   ],
   "source": [
    "df_csv.info()"
   ]
  },
  {
   "cell_type": "code",
   "execution_count": 6,
   "metadata": {},
   "outputs": [
    {
     "data": {
      "text/html": [
       "<div>\n",
       "<style scoped>\n",
       "    .dataframe tbody tr th:only-of-type {\n",
       "        vertical-align: middle;\n",
       "    }\n",
       "\n",
       "    .dataframe tbody tr th {\n",
       "        vertical-align: top;\n",
       "    }\n",
       "\n",
       "    .dataframe thead th {\n",
       "        text-align: right;\n",
       "    }\n",
       "</style>\n",
       "<table border=\"1\" class=\"dataframe\">\n",
       "  <thead>\n",
       "    <tr style=\"text-align: right;\">\n",
       "      <th></th>\n",
       "      <th>ID</th>\n",
       "    </tr>\n",
       "    <tr>\n",
       "      <th>AdmArea</th>\n",
       "      <th></th>\n",
       "    </tr>\n",
       "  </thead>\n",
       "  <tbody>\n",
       "    <tr>\n",
       "      <th>Юго-Восточный административный округ</th>\n",
       "      <td>4</td>\n",
       "    </tr>\n",
       "    <tr>\n",
       "      <th>Северо-Восточный административный округ</th>\n",
       "      <td>3</td>\n",
       "    </tr>\n",
       "    <tr>\n",
       "      <th>Юго-Западный административный округ</th>\n",
       "      <td>2</td>\n",
       "    </tr>\n",
       "    <tr>\n",
       "      <th>Восточный административный округ</th>\n",
       "      <td>1</td>\n",
       "    </tr>\n",
       "    <tr>\n",
       "      <th>Северный административный округ</th>\n",
       "      <td>1</td>\n",
       "    </tr>\n",
       "  </tbody>\n",
       "</table>\n",
       "</div>"
      ],
      "text/plain": [
       "                                         ID\n",
       "AdmArea                                    \n",
       "Юго-Восточный административный округ      4\n",
       "Северо-Восточный административный округ   3\n",
       "Юго-Западный административный округ       2\n",
       "Восточный административный округ          1\n",
       "Северный административный округ           1"
      ]
     },
     "execution_count": 6,
     "metadata": {},
     "output_type": "execute_result"
    }
   ],
   "source": [
    "data.pivot_table(index='AdmArea', values='ID', aggfunc='count').sort_values(by='ID', ascending=False)"
   ]
  },
  {
   "cell_type": "code",
   "execution_count": 7,
   "metadata": {},
   "outputs": [
    {
     "data": {
      "text/plain": [
       "<Axes: xlabel='AdmArea'>"
      ]
     },
     "execution_count": 7,
     "metadata": {},
     "output_type": "execute_result"
    },
    {
     "data": {
      "image/png": "[encoded data removed]",
      "text/plain": [
       "<Figure size 640x480 with 1 Axes>"
      ]
     },
     "metadata": {},
     "output_type": "display_data"
    }
   ],
   "source": [
    "data.pivot_table(index='AdmArea', values='ID', aggfunc='count').sort_values(by='ID', ascending=False).plot(kind='bar')"
   ]
  },
  {
   "cell_type": "markdown",
   "metadata": {
    "id": "5fyK9BVFe2cX"
   },
   "source": [
    "**Задание 2.5.** Выполнить парсинг веб-страницы с помощью `JSON`"
   ]
  },
  {
   "cell_type": "code",
   "execution_count": 8,
   "metadata": {
    "id": "mZX5Wy5nS4I8"
   },
   "outputs": [],
   "source": [
    "# Импорт стандартных пакетов\n",
    "import pandas as pd\n",
    "\n",
    "# Для парсинга веб-страниц\n",
    "import requests as reqs\n",
    "import urllib.request\n",
    "from bs4 import BeautifulSoup\n",
    "import json\n",
    "import os\n",
    "import pprint\n",
    "\n",
    "# Для выполнения операций с регулярными выражениями\n",
    "import re"
   ]
  },
  {
   "cell_type": "code",
   "execution_count": 9,
   "metadata": {
    "id": "4PjIZEI8bYdJ"
   },
   "outputs": [],
   "source": [
    "resp = reqs.request(method='GET', url='https://apidata.mos.ru/v1/datasets/60789/features?api_key=22de8170-185c-4df6-a56e-1fe3dd1bdab4')"
   ]
  },
  {
   "cell_type": "markdown",
   "metadata": {
    "id": "j5kHmjTQgGuU"
   },
   "source": [
    "**Задание 2.6.** Выполнить парсинг веб-страницы с помощью `JSON`. Получите URL-адрес:"
   ]
  },
  {
   "cell_type": "code",
   "execution_count": 10,
   "metadata": {
    "id": "V4MT_7fKgKDE"
   },
   "outputs": [
    {
     "name": "stdout",
     "output_type": "stream",
     "text": [
      "URL: \n",
      "\t https://apidata.mos.ru/v1/datasets/60789/features?api_key=22de8170-185c-4df6-a56e-1fe3dd1bdab4\n"
     ]
    }
   ],
   "source": [
    "print(f\"URL: \\n\\t {resp.url}\")"
   ]
  },
  {
   "cell_type": "markdown",
   "metadata": {
    "id": "ZONlhgElgVhZ"
   },
   "source": [
    "**Задание 2.7.** Выполнить парсинг веб-страницы с помощью `JSON`. Определите тип контента:"
   ]
  },
  {
   "cell_type": "code",
   "execution_count": 11,
   "metadata": {
    "id": "rnRYlGxPghJi"
   },
   "outputs": [
    {
     "name": "stdout",
     "output_type": "stream",
     "text": [
      "Content type: \n",
      "\t application/json\n"
     ]
    }
   ],
   "source": [
    "print(f\"Content type: \\n\\t {resp.headers['content-type']}\")"
   ]
  },
  {
   "cell_type": "markdown",
   "metadata": {
    "id": "HYz1ZjjchAXq"
   },
   "source": [
    "**Задание 2.8.** Выполнить парсинг веб-страницы с помощью `JSON`. Обработайте данные с помощью JSON:"
   ]
  },
  {
   "cell_type": "code",
   "execution_count": 12,
   "metadata": {
    "id": "r8Wpu-u-hHCj"
   },
   "outputs": [],
   "source": [
    "if resp.status_code == 200:\n",
    "   json_page = json.loads(resp.text)"
   ]
  },
  {
   "cell_type": "markdown",
   "metadata": {
    "id": "DpnBucrBhRCr"
   },
   "source": [
    "**Задание 2.9.**  Обработайте данные с помощью `JSON`. Посмотреть на ключи:"
   ]
  },
  {
   "cell_type": "code",
   "execution_count": 13,
   "metadata": {
    "id": "KKs3wyTdhax1"
   },
   "outputs": [
    {
     "name": "stdout",
     "output_type": "stream",
     "text": [
      "features\n",
      "type\n"
     ]
    }
   ],
   "source": [
    "for x in json_page:\n",
    "    print(x)"
   ]
  },
  {
   "cell_type": "markdown",
   "metadata": {
    "id": "oBqriFtThn3H"
   },
   "source": [
    "Распечатать ключи и значения:"
   ]
  },
  {
   "cell_type": "code",
   "execution_count": 14,
   "metadata": {
    "id": "peUqDSuQhqIW",
    "scrolled": true
   },
   "outputs": [
    {
     "name": "stdout",
     "output_type": "stream",
     "text": [
      "features --> [{'geometry': {'coordinates': [37.636778, 55.818675], 'type': 'Point'}, 'properties': {'datasetId': 60789, 'attributes': {'is_deleted': 0, 'ID': 1, 'CinemaName': 'Государственное бюджетное учреждение культуры города Москвы «Московское кино» Кинотеатр «Москино Космос»', 'AdmArea': 'Северо-Восточный административный округ', 'District': 'Останкинский район', 'Address': 'Российская Федерация, город Москва, внутригородская территория муниципальный округ Останкинский, проспект Мира, дом 109', 'NumberOfAccessPoints': 7, 'WiFiName': 'Moscow_WiFi_Free', 'CoverageArea': 50, 'FunctionFlag': 'действует', 'AccessFlag': 'открытая сеть', 'Password': '', 'Latitude_WGS84': '55.818675', 'Longitude_WGS84': '37.636778', 'global_id': 879791944}, 'rowId': None, 'releaseNumber': 32, 'versionNumber': 1}, 'type': 'Feature'}, {'geometry': {'coordinates': [37.718534, 55.685873], 'type': 'Point'}, 'properties': {'datasetId': 60789, 'attributes': {'is_deleted': 0, 'ID': 3, 'CinemaName': 'Государственное бюджетное учреждение культуры города Москвы «Московское кино» Кинотеатр «Москино Тула»', 'AdmArea': 'Юго-Восточный административный округ', 'District': 'район Печатники', 'Address': 'город Москва, улица Кухмистерова, дом 4', 'NumberOfAccessPoints': 8, 'WiFiName': 'Moscow_WiFi_Free', 'CoverageArea': 50, 'FunctionFlag': 'действует', 'AccessFlag': 'открытая сеть', 'Password': '', 'Latitude_WGS84': '55.685873', 'Longitude_WGS84': '37.718534', 'global_id': 879791951}, 'rowId': None, 'releaseNumber': 32, 'versionNumber': 1}, 'type': 'Feature'}, {'geometry': {'coordinates': [37.731299, 55.710864], 'type': 'Point'}, 'properties': {'datasetId': 60789, 'attributes': {'is_deleted': 0, 'ID': 4, 'CinemaName': 'Государственное бюджетное учреждение культуры города Москвы «Московское кино» Кинотеатр «Москино Молодежный»', 'AdmArea': 'Юго-Восточный административный округ', 'District': 'район Текстильщики', 'Address': 'Российская Федерация, город Москва, внутригородская территория муниципальный округ Текстильщики, Люблинская улица, дом 11', 'NumberOfAccessPoints': 6, 'WiFiName': 'Moscow_WiFi_Free', 'CoverageArea': 50, 'FunctionFlag': 'действует', 'AccessFlag': 'открытая сеть', 'Password': '', 'Latitude_WGS84': '55.710864', 'Longitude_WGS84': '37.731299', 'global_id': 879791953}, 'rowId': None, 'releaseNumber': 32, 'versionNumber': 1}, 'type': 'Feature'}, {'geometry': {'coordinates': [37.57121, 55.814406], 'type': 'Point'}, 'properties': {'datasetId': 60789, 'attributes': {'is_deleted': 0, 'ID': 7, 'CinemaName': 'Государственное бюджетное учреждение культуры города Москвы «Московское кино» Кинотеатр «Москино Искра»', 'AdmArea': 'Северный административный округ', 'District': 'Тимирязевский район', 'Address': 'Российская Федерация, город Москва, внутригородская территория муниципальный округ Тимирязевский, улица Костякова, дом 10', 'NumberOfAccessPoints': 3, 'WiFiName': 'Moscow_WiFi_Free', 'CoverageArea': 50, 'FunctionFlag': 'действует', 'AccessFlag': 'открытая сеть', 'Password': '', 'Latitude_WGS84': '55.814406', 'Longitude_WGS84': '37.571210', 'global_id': 879791961}, 'rowId': None, 'releaseNumber': 32, 'versionNumber': 1}, 'type': 'Feature'}, {'geometry': {'coordinates': [37.647549, 55.851945], 'type': 'Point'}, 'properties': {'datasetId': 60789, 'attributes': {'is_deleted': 0, 'ID': 9, 'CinemaName': 'Государственное бюджетное учреждение культуры города Москвы «Московское кино» Кинотеатр «Москино Сатурн»', 'AdmArea': 'Северо-Восточный административный округ', 'District': 'район Свиблово', 'Address': 'Российская Федерация, город Москва, внутригородская территория муниципальный округ Свиблово, Снежная улица, дом 18', 'NumberOfAccessPoints': 5, 'WiFiName': 'Moscow_WiFi_Free', 'CoverageArea': 50, 'FunctionFlag': 'действует', 'AccessFlag': 'открытая сеть', 'Password': '', 'Latitude_WGS84': '55.851945', 'Longitude_WGS84': '37.647549', 'global_id': 879791967}, 'rowId': None, 'releaseNumber': 32, 'versionNumber': 1}, 'type': 'Feature'}, {'geometry': {'coordinates': [37.676825, 55.861974], 'type': 'Point'}, 'properties': {'datasetId': 60789, 'attributes': {'is_deleted': 0, 'ID': 2, 'CinemaName': 'Государственное бюджетное учреждение культуры города Москвы «Московское кино» Кинотеатр «Москино Вымпел»', 'AdmArea': 'Северо-Восточный административный округ', 'District': 'Бабушкинский район', 'Address': 'Российская Федерация, город Москва, внутригородская территория муниципальный округ Бабушкинский, улица Коминтерна, дом 8', 'NumberOfAccessPoints': 5, 'WiFiName': 'Moscow_WiFi_Free', 'CoverageArea': 50, 'FunctionFlag': 'действует', 'AccessFlag': 'открытая сеть', 'Password': '', 'Latitude_WGS84': '55.861974', 'Longitude_WGS84': '37.676825', 'global_id': 879795206}, 'rowId': None, 'releaseNumber': 32, 'versionNumber': 1}, 'type': 'Feature'}, {'geometry': {'coordinates': [37.705508, 55.764303], 'type': 'Point'}, 'properties': {'datasetId': 60789, 'attributes': {'is_deleted': 0, 'ID': 5, 'CinemaName': 'Государственное бюджетное учреждение культуры города Москвы «Московское кино» Кинотеатр «Москино Спутник»', 'AdmArea': 'Юго-Восточный административный округ', 'District': 'район Лефортово', 'Address': 'Российская Федерация, город Москва, внутригородская территория муниципальный округ Лефортово, Солдатская улица, дом 15', 'NumberOfAccessPoints': 4, 'WiFiName': 'Moscow_WiFi_Free', 'CoverageArea': 50, 'FunctionFlag': 'действует', 'AccessFlag': 'открытая сеть', 'Password': '', 'Latitude_WGS84': '55.764303', 'Longitude_WGS84': '37.705508', 'global_id': 879795207}, 'rowId': None, 'releaseNumber': 32, 'versionNumber': 1}, 'type': 'Feature'}, {'geometry': {'coordinates': [37.571585, 55.682787], 'type': 'Point'}, 'properties': {'datasetId': 60789, 'attributes': {'is_deleted': 0, 'ID': 6, 'CinemaName': 'Государственное бюджетное учреждение культуры города Москвы «Московское кино» Кинотеатр «Москино Салют»', 'AdmArea': 'Юго-Западный административный округ', 'District': 'Академический район', 'Address': 'Российская Федерация, город Москва, внутригородская территория муниципальный округ Академический, улица Кедрова, дом 14, корпус 1', 'NumberOfAccessPoints': 3, 'WiFiName': 'Moscow_WiFi_Free', 'CoverageArea': 50, 'FunctionFlag': 'действует', 'AccessFlag': 'открытая сеть', 'Password': '', 'Latitude_WGS84': '55.682787', 'Longitude_WGS84': '37.571585', 'global_id': 879795208}, 'rowId': None, 'releaseNumber': 32, 'versionNumber': 1}, 'type': 'Feature'}, {'geometry': {'coordinates': [37.802562, 55.749841], 'type': 'Point'}, 'properties': {'datasetId': 60789, 'attributes': {'is_deleted': 0, 'ID': 8, 'CinemaName': 'Государственное бюджетное учреждение культуры города Москвы «Московское кино» Кинотеатр «Москино Березка»', 'AdmArea': 'Восточный административный округ', 'District': 'район Новогиреево', 'Address': 'Российская Федерация, город Москва, внутригородская территория муниципальный округ Новогиреево, Мартеновская улица, дом 25', 'NumberOfAccessPoints': 6, 'WiFiName': 'Moscow_WiFi_Free', 'CoverageArea': 50, 'FunctionFlag': 'действует', 'AccessFlag': 'открытая сеть', 'Password': '', 'Latitude_WGS84': '55.749841', 'Longitude_WGS84': '37.802562', 'global_id': 879795209}, 'rowId': None, 'releaseNumber': 32, 'versionNumber': 1}, 'type': 'Feature'}, {'geometry': {'coordinates': [37.513395, 55.665309], 'type': 'Point'}, 'properties': {'datasetId': 60789, 'attributes': {'is_deleted': 0, 'ID': 10, 'CinemaName': 'Государственное бюджетное учреждение культуры города Москвы «Киноконцертный зал «Эльдар»', 'AdmArea': 'Юго-Западный административный округ', 'District': 'Обручевский район', 'Address': 'Российская Федерация, город Москва, внутригородская территория муниципальный округ Обручевский, Ленинский проспект, дом 105', 'NumberOfAccessPoints': 5, 'WiFiName': 'Moscow_WiFi_Free', 'CoverageArea': 50, 'FunctionFlag': 'действует', 'AccessFlag': 'открытая сеть', 'Password': '', 'Latitude_WGS84': '55.665309', 'Longitude_WGS84': '37.513395', 'global_id': 879795211}, 'rowId': None, 'releaseNumber': 32, 'versionNumber': 1}, 'type': 'Feature'}, {'geometry': {'coordinates': [37.716144, 55.751817], 'type': 'Point'}, 'properties': {'datasetId': 60789, 'attributes': {'is_deleted': 0, 'ID': 11, 'CinemaName': 'Государственное бюджетное учреждение культуры города Москвы «Московское кино» Кинотеатр «Москино Факел»', 'AdmArea': 'Юго-Восточный административный округ', 'District': 'район Лефортово', 'Address': 'Российская Федерация, город Москва, внутригородская территория муниципальный округ Лефортово, шоссе Энтузиастов, дом 15/16', 'NumberOfAccessPoints': 3, 'WiFiName': 'Moscow_WiFi_Free', 'CoverageArea': 50, 'FunctionFlag': 'действует', 'AccessFlag': 'открытая сеть', 'Password': '', 'Latitude_WGS84': '55.751817', 'Longitude_WGS84': '37.716144', 'global_id': 879795212}, 'rowId': None, 'releaseNumber': 32, 'versionNumber': 1}, 'type': 'Feature'}] \n",
      "\n",
      "type --> FeatureCollection \n",
      "\n"
     ]
    }
   ],
   "source": [
    "for x in json_page:\n",
    "    print(f\"{x} --> {json_page[x]} \\n\")"
   ]
  },
  {
   "cell_type": "code",
   "execution_count": 15,
   "metadata": {
    "id": "FSJj7Ykdhz6O"
   },
   "outputs": [
    {
     "name": "stdout",
     "output_type": "stream",
     "text": [
      "{'features': [{'geometry': {'coordinates': [37.636778, 55.818675],\n",
      "                            'type': 'Point'},\n",
      "               'properties': {'attributes': {'AccessFlag': 'открытая сеть',\n",
      "                                             'Address': 'Российская Федерация, '\n",
      "                                                        'город Москва, '\n",
      "                                                        'внутригородская '\n",
      "                                                        'территория '\n",
      "                                                        'муниципальный округ '\n",
      "                                                        'Останкинский, '\n",
      "                                                        'проспект Мира, дом '\n",
      "                                                        '109',\n",
      "                                             'AdmArea': 'Северо-Восточный '\n",
      "                                                        'административный '\n",
      "                                                        'округ',\n",
      "                                             'CinemaName': 'Государственное '\n",
      "                                                           'бюджетное '\n",
      "                                                           'учреждение '\n",
      "                                                           'культуры города '\n",
      "                                                           'Москвы «Московское '\n",
      "                                                           'кино» Кинотеатр '\n",
      "                                                           '«Москино Космос»',\n",
      "                                             'CoverageArea': 50,\n",
      "                                             'District': 'Останкинский район',\n",
      "                                             'FunctionFlag': 'действует',\n",
      "                                             'ID': 1,\n",
      "                                             'Latitude_WGS84': '55.818675',\n",
      "                                             'Longitude_WGS84': '37.636778',\n",
      "                                             'NumberOfAccessPoints': 7,\n",
      "                                             'Password': '',\n",
      "                                             'WiFiName': 'Moscow_WiFi_Free',\n",
      "                                             'global_id': 879791944,\n",
      "                                             'is_deleted': 0},\n",
      "                              'datasetId': 60789,\n",
      "                              'releaseNumber': 32,\n",
      "                              'rowId': None,\n",
      "                              'versionNumber': 1},\n",
      "               'type': 'Feature'},\n",
      "              {'geometry': {'coordinates': [37.718534, 55.685873],\n",
      "                            'type': 'Point'},\n",
      "               'properties': {'attributes': {'AccessFlag': 'открытая сеть',\n",
      "                                             'Address': 'город Москва, улица '\n",
      "                                                        'Кухмистерова, дом 4',\n",
      "                                             'AdmArea': 'Юго-Восточный '\n",
      "                                                        'административный '\n",
      "                                                        'округ',\n",
      "                                             'CinemaName': 'Государственное '\n",
      "                                                           'бюджетное '\n",
      "                                                           'учреждение '\n",
      "                                                           'культуры города '\n",
      "                                                           'Москвы «Московское '\n",
      "                                                           'кино» Кинотеатр '\n",
      "                                                           '«Москино Тула»',\n",
      "                                             'CoverageArea': 50,\n",
      "                                             'District': 'район Печатники',\n",
      "                                             'FunctionFlag': 'действует',\n",
      "                                             'ID': 3,\n",
      "                                             'Latitude_WGS84': '55.685873',\n",
      "                                             'Longitude_WGS84': '37.718534',\n",
      "                                             'NumberOfAccessPoints': 8,\n",
      "                                             'Password': '',\n",
      "                                             'WiFiName': 'Moscow_WiFi_Free',\n",
      "                                             'global_id': 879791951,\n",
      "                                             'is_deleted': 0},\n",
      "                              'datasetId': 60789,\n",
      "                              'releaseNumber': 32,\n",
      "                              'rowId': None,\n",
      "                              'versionNumber': 1},\n",
      "               'type': 'Feature'},\n",
      "              {'geometry': {'coordinates': [37.731299, 55.710864],\n",
      "                            'type': 'Point'},\n",
      "               'properties': {'attributes': {'AccessFlag': 'открытая сеть',\n",
      "                                             'Address': 'Российская Федерация, '\n",
      "                                                        'город Москва, '\n",
      "                                                        'внутригородская '\n",
      "                                                        'территория '\n",
      "                                                        'муниципальный округ '\n",
      "                                                        'Текстильщики, '\n",
      "                                                        'Люблинская улица, дом '\n",
      "                                                        '11',\n",
      "                                             'AdmArea': 'Юго-Восточный '\n",
      "                                                        'административный '\n",
      "                                                        'округ',\n",
      "                                             'CinemaName': 'Государственное '\n",
      "                                                           'бюджетное '\n",
      "                                                           'учреждение '\n",
      "                                                           'культуры города '\n",
      "                                                           'Москвы «Московское '\n",
      "                                                           'кино» Кинотеатр '\n",
      "                                                           '«Москино '\n",
      "                                                           'Молодежный»',\n",
      "                                             'CoverageArea': 50,\n",
      "                                             'District': 'район Текстильщики',\n",
      "                                             'FunctionFlag': 'действует',\n",
      "                                             'ID': 4,\n",
      "                                             'Latitude_WGS84': '55.710864',\n",
      "                                             'Longitude_WGS84': '37.731299',\n",
      "                                             'NumberOfAccessPoints': 6,\n",
      "                                             'Password': '',\n",
      "                                             'WiFiName': 'Moscow_WiFi_Free',\n",
      "                                             'global_id': 879791953,\n",
      "                                             'is_deleted': 0},\n",
      "                              'datasetId': 60789,\n",
      "                              'releaseNumber': 32,\n",
      "                              'rowId': None,\n",
      "                              'versionNumber': 1},\n",
      "               'type': 'Feature'},\n",
      "              {'geometry': {'coordinates': [37.57121, 55.814406],\n",
      "                            'type': 'Point'},\n",
      "               'properties': {'attributes': {'AccessFlag': 'открытая сеть',\n",
      "                                             'Address': 'Российская Федерация, '\n",
      "                                                        'город Москва, '\n",
      "                                                        'внутригородская '\n",
      "                                                        'территория '\n",
      "                                                        'муниципальный округ '\n",
      "                                                        'Тимирязевский, улица '\n",
      "                                                        'Костякова, дом 10',\n",
      "                                             'AdmArea': 'Северный '\n",
      "                                                        'административный '\n",
      "                                                        'округ',\n",
      "                                             'CinemaName': 'Государственное '\n",
      "                                                           'бюджетное '\n",
      "                                                           'учреждение '\n",
      "                                                           'культуры города '\n",
      "                                                           'Москвы «Московское '\n",
      "                                                           'кино» Кинотеатр '\n",
      "                                                           '«Москино Искра»',\n",
      "                                             'CoverageArea': 50,\n",
      "                                             'District': 'Тимирязевский район',\n",
      "                                             'FunctionFlag': 'действует',\n",
      "                                             'ID': 7,\n",
      "                                             'Latitude_WGS84': '55.814406',\n",
      "                                             'Longitude_WGS84': '37.571210',\n",
      "                                             'NumberOfAccessPoints': 3,\n",
      "                                             'Password': '',\n",
      "                                             'WiFiName': 'Moscow_WiFi_Free',\n",
      "                                             'global_id': 879791961,\n",
      "                                             'is_deleted': 0},\n",
      "                              'datasetId': 60789,\n",
      "                              'releaseNumber': 32,\n",
      "                              'rowId': None,\n",
      "                              'versionNumber': 1},\n",
      "               'type': 'Feature'},\n",
      "              {'geometry': {'coordinates': [37.647549, 55.851945],\n",
      "                            'type': 'Point'},\n",
      "               'properties': {'attributes': {'AccessFlag': 'открытая сеть',\n",
      "                                             'Address': 'Российская Федерация, '\n",
      "                                                        'город Москва, '\n",
      "                                                        'внутригородская '\n",
      "                                                        'территория '\n",
      "                                                        'муниципальный округ '\n",
      "                                                        'Свиблово, Снежная '\n",
      "                                                        'улица, дом 18',\n",
      "                                             'AdmArea': 'Северо-Восточный '\n",
      "                                                        'административный '\n",
      "                                                        'округ',\n",
      "                                             'CinemaName': 'Государственное '\n",
      "                                                           'бюджетное '\n",
      "                                                           'учреждение '\n",
      "                                                           'культуры города '\n",
      "                                                           'Москвы «Московское '\n",
      "                                                           'кино» Кинотеатр '\n",
      "                                                           '«Москино Сатурн»',\n",
      "                                             'CoverageArea': 50,\n",
      "                                             'District': 'район Свиблово',\n",
      "                                             'FunctionFlag': 'действует',\n",
      "                                             'ID': 9,\n",
      "                                             'Latitude_WGS84': '55.851945',\n",
      "                                             'Longitude_WGS84': '37.647549',\n",
      "                                             'NumberOfAccessPoints': 5,\n",
      "                                             'Password': '',\n",
      "                                             'WiFiName': 'Moscow_WiFi_Free',\n",
      "                                             'global_id': 879791967,\n",
      "                                             'is_deleted': 0},\n",
      "                              'datasetId': 60789,\n",
      "                              'releaseNumber': 32,\n",
      "                              'rowId': None,\n",
      "                              'versionNumber': 1},\n",
      "               'type': 'Feature'},\n",
      "              {'geometry': {'coordinates': [37.676825, 55.861974],\n",
      "                            'type': 'Point'},\n",
      "               'properties': {'attributes': {'AccessFlag': 'открытая сеть',\n",
      "                                             'Address': 'Российская Федерация, '\n",
      "                                                        'город Москва, '\n",
      "                                                        'внутригородская '\n",
      "                                                        'территория '\n",
      "                                                        'муниципальный округ '\n",
      "                                                        'Бабушкинский, улица '\n",
      "                                                        'Коминтерна, дом 8',\n",
      "                                             'AdmArea': 'Северо-Восточный '\n",
      "                                                        'административный '\n",
      "                                                        'округ',\n",
      "                                             'CinemaName': 'Государственное '\n",
      "                                                           'бюджетное '\n",
      "                                                           'учреждение '\n",
      "                                                           'культуры города '\n",
      "                                                           'Москвы «Московское '\n",
      "                                                           'кино» Кинотеатр '\n",
      "                                                           '«Москино Вымпел»',\n",
      "                                             'CoverageArea': 50,\n",
      "                                             'District': 'Бабушкинский район',\n",
      "                                             'FunctionFlag': 'действует',\n",
      "                                             'ID': 2,\n",
      "                                             'Latitude_WGS84': '55.861974',\n",
      "                                             'Longitude_WGS84': '37.676825',\n",
      "                                             'NumberOfAccessPoints': 5,\n",
      "                                             'Password': '',\n",
      "                                             'WiFiName': 'Moscow_WiFi_Free',\n",
      "                                             'global_id': 879795206,\n",
      "                                             'is_deleted': 0},\n",
      "                              'datasetId': 60789,\n",
      "                              'releaseNumber': 32,\n",
      "                              'rowId': None,\n",
      "                              'versionNumber': 1},\n",
      "               'type': 'Feature'},\n",
      "              {'geometry': {'coordinates': [37.705508, 55.764303],\n",
      "                            'type': 'Point'},\n",
      "               'properties': {'attributes': {'AccessFlag': 'открытая сеть',\n",
      "                                             'Address': 'Российская Федерация, '\n",
      "                                                        'город Москва, '\n",
      "                                                        'внутригородская '\n",
      "                                                        'территория '\n",
      "                                                        'муниципальный округ '\n",
      "                                                        'Лефортово, Солдатская '\n",
      "                                                        'улица, дом 15',\n",
      "                                             'AdmArea': 'Юго-Восточный '\n",
      "                                                        'административный '\n",
      "                                                        'округ',\n",
      "                                             'CinemaName': 'Государственное '\n",
      "                                                           'бюджетное '\n",
      "                                                           'учреждение '\n",
      "                                                           'культуры города '\n",
      "                                                           'Москвы «Московское '\n",
      "                                                           'кино» Кинотеатр '\n",
      "                                                           '«Москино Спутник»',\n",
      "                                             'CoverageArea': 50,\n",
      "                                             'District': 'район Лефортово',\n",
      "                                             'FunctionFlag': 'действует',\n",
      "                                             'ID': 5,\n",
      "                                             'Latitude_WGS84': '55.764303',\n",
      "                                             'Longitude_WGS84': '37.705508',\n",
      "                                             'NumberOfAccessPoints': 4,\n",
      "                                             'Password': '',\n",
      "                                             'WiFiName': 'Moscow_WiFi_Free',\n",
      "                                             'global_id': 879795207,\n",
      "                                             'is_deleted': 0},\n",
      "                              'datasetId': 60789,\n",
      "                              'releaseNumber': 32,\n",
      "                              'rowId': None,\n",
      "                              'versionNumber': 1},\n",
      "               'type': 'Feature'},\n",
      "              {'geometry': {'coordinates': [37.571585, 55.682787],\n",
      "                            'type': 'Point'},\n",
      "               'properties': {'attributes': {'AccessFlag': 'открытая сеть',\n",
      "                                             'Address': 'Российская Федерация, '\n",
      "                                                        'город Москва, '\n",
      "                                                        'внутригородская '\n",
      "                                                        'территория '\n",
      "                                                        'муниципальный округ '\n",
      "                                                        'Академический, улица '\n",
      "                                                        'Кедрова, дом 14, '\n",
      "                                                        'корпус 1',\n",
      "                                             'AdmArea': 'Юго-Западный '\n",
      "                                                        'административный '\n",
      "                                                        'округ',\n",
      "                                             'CinemaName': 'Государственное '\n",
      "                                                           'бюджетное '\n",
      "                                                           'учреждение '\n",
      "                                                           'культуры города '\n",
      "                                                           'Москвы «Московское '\n",
      "                                                           'кино» Кинотеатр '\n",
      "                                                           '«Москино Салют»',\n",
      "                                             'CoverageArea': 50,\n",
      "                                             'District': 'Академический район',\n",
      "                                             'FunctionFlag': 'действует',\n",
      "                                             'ID': 6,\n",
      "                                             'Latitude_WGS84': '55.682787',\n",
      "                                             'Longitude_WGS84': '37.571585',\n",
      "                                             'NumberOfAccessPoints': 3,\n",
      "                                             'Password': '',\n",
      "                                             'WiFiName': 'Moscow_WiFi_Free',\n",
      "                                             'global_id': 879795208,\n",
      "                                             'is_deleted': 0},\n",
      "                              'datasetId': 60789,\n",
      "                              'releaseNumber': 32,\n",
      "                              'rowId': None,\n",
      "                              'versionNumber': 1},\n",
      "               'type': 'Feature'},\n",
      "              {'geometry': {'coordinates': [37.802562, 55.749841],\n",
      "                            'type': 'Point'},\n",
      "               'properties': {'attributes': {'AccessFlag': 'открытая сеть',\n",
      "                                             'Address': 'Российская Федерация, '\n",
      "                                                        'город Москва, '\n",
      "                                                        'внутригородская '\n",
      "                                                        'территория '\n",
      "                                                        'муниципальный округ '\n",
      "                                                        'Новогиреево, '\n",
      "                                                        'Мартеновская улица, '\n",
      "                                                        'дом 25',\n",
      "                                             'AdmArea': 'Восточный '\n",
      "                                                        'административный '\n",
      "                                                        'округ',\n",
      "                                             'CinemaName': 'Государственное '\n",
      "                                                           'бюджетное '\n",
      "                                                           'учреждение '\n",
      "                                                           'культуры города '\n",
      "                                                           'Москвы «Московское '\n",
      "                                                           'кино» Кинотеатр '\n",
      "                                                           '«Москино Березка»',\n",
      "                                             'CoverageArea': 50,\n",
      "                                             'District': 'район Новогиреево',\n",
      "                                             'FunctionFlag': 'действует',\n",
      "                                             'ID': 8,\n",
      "                                             'Latitude_WGS84': '55.749841',\n",
      "                                             'Longitude_WGS84': '37.802562',\n",
      "                                             'NumberOfAccessPoints': 6,\n",
      "                                             'Password': '',\n",
      "                                             'WiFiName': 'Moscow_WiFi_Free',\n",
      "                                             'global_id': 879795209,\n",
      "                                             'is_deleted': 0},\n",
      "                              'datasetId': 60789,\n",
      "                              'releaseNumber': 32,\n",
      "                              'rowId': None,\n",
      "                              'versionNumber': 1},\n",
      "               'type': 'Feature'},\n",
      "              {'geometry': {'coordinates': [37.513395, 55.665309],\n",
      "                            'type': 'Point'},\n",
      "               'properties': {'attributes': {'AccessFlag': 'открытая сеть',\n",
      "                                             'Address': 'Российская Федерация, '\n",
      "                                                        'город Москва, '\n",
      "                                                        'внутригородская '\n",
      "                                                        'территория '\n",
      "                                                        'муниципальный округ '\n",
      "                                                        'Обручевский, '\n",
      "                                                        'Ленинский проспект, '\n",
      "                                                        'дом 105',\n",
      "                                             'AdmArea': 'Юго-Западный '\n",
      "                                                        'административный '\n",
      "                                                        'округ',\n",
      "                                             'CinemaName': 'Государственное '\n",
      "                                                           'бюджетное '\n",
      "                                                           'учреждение '\n",
      "                                                           'культуры города '\n",
      "                                                           'Москвы '\n",
      "                                                           '«Киноконцертный '\n",
      "                                                           'зал «Эльдар»',\n",
      "                                             'CoverageArea': 50,\n",
      "                                             'District': 'Обручевский район',\n",
      "                                             'FunctionFlag': 'действует',\n",
      "                                             'ID': 10,\n",
      "                                             'Latitude_WGS84': '55.665309',\n",
      "                                             'Longitude_WGS84': '37.513395',\n",
      "                                             'NumberOfAccessPoints': 5,\n",
      "                                             'Password': '',\n",
      "                                             'WiFiName': 'Moscow_WiFi_Free',\n",
      "                                             'global_id': 879795211,\n",
      "                                             'is_deleted': 0},\n",
      "                              'datasetId': 60789,\n",
      "                              'releaseNumber': 32,\n",
      "                              'rowId': None,\n",
      "                              'versionNumber': 1},\n",
      "               'type': 'Feature'},\n",
      "              {'geometry': {'coordinates': [37.716144, 55.751817],\n",
      "                            'type': 'Point'},\n",
      "               'properties': {'attributes': {'AccessFlag': 'открытая сеть',\n",
      "                                             'Address': 'Российская Федерация, '\n",
      "                                                        'город Москва, '\n",
      "                                                        'внутригородская '\n",
      "                                                        'территория '\n",
      "                                                        'муниципальный округ '\n",
      "                                                        'Лефортово, шоссе '\n",
      "                                                        'Энтузиастов, дом '\n",
      "                                                        '15/16',\n",
      "                                             'AdmArea': 'Юго-Восточный '\n",
      "                                                        'административный '\n",
      "                                                        'округ',\n",
      "                                             'CinemaName': 'Государственное '\n",
      "                                                           'бюджетное '\n",
      "                                                           'учреждение '\n",
      "                                                           'культуры города '\n",
      "                                                           'Москвы «Московское '\n",
      "                                                           'кино» Кинотеатр '\n",
      "                                                           '«Москино Факел»',\n",
      "                                             'CoverageArea': 50,\n",
      "                                             'District': 'район Лефортово',\n",
      "                                             'FunctionFlag': 'действует',\n",
      "                                             'ID': 11,\n",
      "                                             'Latitude_WGS84': '55.751817',\n",
      "                                             'Longitude_WGS84': '37.716144',\n",
      "                                             'NumberOfAccessPoints': 3,\n",
      "                                             'Password': '',\n",
      "                                             'WiFiName': 'Moscow_WiFi_Free',\n",
      "                                             'global_id': 879795212,\n",
      "                                             'is_deleted': 0},\n",
      "                              'datasetId': 60789,\n",
      "                              'releaseNumber': 32,\n",
      "                              'rowId': None,\n",
      "                              'versionNumber': 1},\n",
      "               'type': 'Feature'}],\n",
      " 'type': 'FeatureCollection'}\n"
     ]
    }
   ],
   "source": [
    "pprint.pprint(json_page)"
   ]
  },
  {
   "cell_type": "markdown",
   "metadata": {
    "id": "xTubY5cRenax"
   },
   "source": [
    "**Задание 2.10.** Выполнить парсинг веб-страницы с помощью `Beautiful Soup`"
   ]
  },
  {
   "cell_type": "code",
   "execution_count": 16,
   "metadata": {
    "id": "O4itFt8mklPV"
   },
   "outputs": [],
   "source": [
    "from bs4 import BeautifulSoup as bso"
   ]
  },
  {
   "cell_type": "code",
   "execution_count": 17,
   "metadata": {
    "id": "i4qW1Nvkkn-B"
   },
   "outputs": [],
   "source": [
    "# Отправление запроса на получение данных и присваивание ответ переменной.\n",
    "source = reqs.get(\"https://apidata.mos.ru/v1/datasets/60789/features?api_key=22de8170-185c-4df6-a56e-1fe3dd1bdab4\")"
   ]
  },
  {
   "cell_type": "code",
   "execution_count": 18,
   "metadata": {
    "id": "yFJqrl6Fa5au"
   },
   "outputs": [
    {
     "name": "stdout",
     "output_type": "stream",
     "text": [
      "Content type: \n",
      "\t application/json\n"
     ]
    }
   ],
   "source": [
    "print(f\"Content type: \\n\\t {source.headers['content-type']}\")"
   ]
  },
  {
   "cell_type": "code",
   "execution_count": 19,
   "metadata": {
    "id": "e0iCRFeOk8QN"
   },
   "outputs": [
    {
     "name": "stdout",
     "output_type": "stream",
     "text": [
      "<Response [200]>\n"
     ]
    }
   ],
   "source": [
    "print(source)"
   ]
  },
  {
   "cell_type": "markdown",
   "metadata": {
    "id": "I2K4PKBZlKjR"
   },
   "source": [
    "**Задание 2.10.1.** Выполнить парсинг веб-страницы с помощью `Beautiful Soup`. Создать beautiful soup объект."
   ]
  },
  {
   "cell_type": "code",
   "execution_count": 20,
   "metadata": {
    "id": "UY_9Ro7alce_"
   },
   "outputs": [],
   "source": [
    "mysoup = bso(source.text, 'html.parser')"
   ]
  },
  {
   "cell_type": "markdown",
   "metadata": {
    "id": "9wA_Ko8kleCF"
   },
   "source": [
    "**Задание 2.10.2.** Выполнить парсинг веб-страницы с помощью `Beautiful Soup`. Распечатайте HTML-содержимое страницы, используя метод prettify"
   ]
  },
  {
   "cell_type": "code",
   "execution_count": 21,
   "metadata": {
    "id": "jTbNBgTvltXT",
    "scrolled": true
   },
   "outputs": [
    {
     "name": "stdout",
     "output_type": "stream",
     "text": [
      "{\"features\":[{\"geometry\":{\"coordinates\":[37.636778,55.818675],\"type\":\"Point\"},\"properties\":{\"datasetId\":60789,\"attributes\":{\"is_deleted\":0,\"ID\":1,\"CinemaName\":\"Государственное бюджетное учреждение культуры города Москвы «Московское кино» Кинотеатр «Москино Космос»\",\"AdmArea\":\"Северо-Восточный административный округ\",\"District\":\"Останкинский район\",\"Address\":\"Российская Федерация, город Москва, внутригородская территория муниципальный округ Останкинский, проспект Мира, дом 109\",\"NumberOfAccessPoints\":7,\"WiFiName\":\"Moscow_WiFi_Free\",\"CoverageArea\":50,\"FunctionFlag\":\"действует\",\"AccessFlag\":\"открытая сеть\",\"Password\":\"\",\"Latitude_WGS84\":\"55.818675\",\"Longitude_WGS84\":\"37.636778\",\"global_id\":879791944},\"rowId\":null,\"releaseNumber\":32,\"versionNumber\":1},\"type\":\"Feature\"},{\"geometry\":{\"coordinates\":[37.718534,55.685873],\"type\":\"Point\"},\"properties\":{\"datasetId\":60789,\"attributes\":{\"is_deleted\":0,\"ID\":3,\"CinemaName\":\"Государственное бюджетное учреждение культуры города Москвы «Московское кино» Кинотеатр «Москино Тула»\",\"AdmArea\":\"Юго-Восточный административный округ\",\"District\":\"район Печатники\",\"Address\":\"город Москва, улица Кухмистерова, дом 4\",\"NumberOfAccessPoints\":8,\"WiFiName\":\"Moscow_WiFi_Free\",\"CoverageArea\":50,\"FunctionFlag\":\"действует\",\"AccessFlag\":\"открытая сеть\",\"Password\":\"\",\"Latitude_WGS84\":\"55.685873\",\"Longitude_WGS84\":\"37.718534\",\"global_id\":879791951},\"rowId\":null,\"releaseNumber\":32,\"versionNumber\":1},\"type\":\"Feature\"},{\"geometry\":{\"coordinates\":[37.731299,55.710864],\"type\":\"Point\"},\"properties\":{\"datasetId\":60789,\"attributes\":{\"is_deleted\":0,\"ID\":4,\"CinemaName\":\"Государственное бюджетное учреждение культуры города Москвы «Московское кино» Кинотеатр «Москино Молодежный»\",\"AdmArea\":\"Юго-Восточный административный округ\",\"District\":\"район Текстильщики\",\"Address\":\"Российская Федерация, город Москва, внутригородская территория муниципальный округ Текстильщики, Люблинская улица, дом 11\",\"NumberOfAccessPoints\":6,\"WiFiName\":\"Moscow_WiFi_Free\",\"CoverageArea\":50,\"FunctionFlag\":\"действует\",\"AccessFlag\":\"открытая сеть\",\"Password\":\"\",\"Latitude_WGS84\":\"55.710864\",\"Longitude_WGS84\":\"37.731299\",\"global_id\":879791953},\"rowId\":null,\"releaseNumber\":32,\"versionNumber\":1},\"type\":\"Feature\"},{\"geometry\":{\"coordinates\":[37.57121,55.814406],\"type\":\"Point\"},\"properties\":{\"datasetId\":60789,\"attributes\":{\"is_deleted\":0,\"ID\":7,\"CinemaName\":\"Государственное бюджетное учреждение культуры города Москвы «Московское кино» Кинотеатр «Москино Искра»\",\"AdmArea\":\"Северный административный округ\",\"District\":\"Тимирязевский район\",\"Address\":\"Российская Федерация, город Москва, внутригородская территория муниципальный округ Тимирязевский, улица Костякова, дом 10\",\"NumberOfAccessPoints\":3,\"WiFiName\":\"Moscow_WiFi_Free\",\"CoverageArea\":50,\"FunctionFlag\":\"действует\",\"AccessFlag\":\"открытая сеть\",\"Password\":\"\",\"Latitude_WGS84\":\"55.814406\",\"Longitude_WGS84\":\"37.571210\",\"global_id\":879791961},\"rowId\":null,\"releaseNumber\":32,\"versionNumber\":1},\"type\":\"Feature\"},{\"geometry\":{\"coordinates\":[37.647549,55.851945],\"type\":\"Point\"},\"properties\":{\"datasetId\":60789,\"attributes\":{\"is_deleted\":0,\"ID\":9,\"CinemaName\":\"Государственное бюджетное учреждение культуры города Москвы «Московское кино» Кинотеатр «Москино Сатурн»\",\"AdmArea\":\"Северо-Восточный административный округ\",\"District\":\"район Свиблово\",\"Address\":\"Российская Федерация, город Москва, внутригородская территория муниципальный округ Свиблово, Снежная улица, дом 18\",\"NumberOfAccessPoints\":5,\"WiFiName\":\"Moscow_WiFi_Free\",\"CoverageArea\":50,\"FunctionFlag\":\"действует\",\"AccessFlag\":\"открытая сеть\",\"Password\":\"\",\"Latitude_WGS84\":\"55.851945\",\"Longitude_WGS84\":\"37.647549\",\"global_id\":879791967},\"rowId\":null,\"releaseNumber\":32,\"versionNumber\":1},\"type\":\"Feature\"},{\"geometry\":{\"coordinates\":[37.676825,55.861974],\"type\":\"Point\"},\"properties\":{\"datasetId\":60789,\"attributes\":{\"is_deleted\":0,\"ID\":2,\"CinemaName\":\"Государственное бюджетное учреждение культуры города Москвы «Московское кино» Кинотеатр «Москино Вымпел»\",\"AdmArea\":\"Северо-Восточный административный округ\",\"District\":\"Бабушкинский район\",\"Address\":\"Российская Федерация, город Москва, внутригородская территория муниципальный округ Бабушкинский, улица Коминтерна, дом 8\",\"NumberOfAccessPoints\":5,\"WiFiName\":\"Moscow_WiFi_Free\",\"CoverageArea\":50,\"FunctionFlag\":\"действует\",\"AccessFlag\":\"открытая сеть\",\"Password\":\"\",\"Latitude_WGS84\":\"55.861974\",\"Longitude_WGS84\":\"37.676825\",\"global_id\":879795206},\"rowId\":null,\"releaseNumber\":32,\"versionNumber\":1},\"type\":\"Feature\"},{\"geometry\":{\"coordinates\":[37.705508,55.764303],\"type\":\"Point\"},\"properties\":{\"datasetId\":60789,\"attributes\":{\"is_deleted\":0,\"ID\":5,\"CinemaName\":\"Государственное бюджетное учреждение культуры города Москвы «Московское кино» Кинотеатр «Москино Спутник»\",\"AdmArea\":\"Юго-Восточный административный округ\",\"District\":\"район Лефортово\",\"Address\":\"Российская Федерация, город Москва, внутригородская территория муниципальный округ Лефортово, Солдатская улица, дом 15\",\"NumberOfAccessPoints\":4,\"WiFiName\":\"Moscow_WiFi_Free\",\"CoverageArea\":50,\"FunctionFlag\":\"действует\",\"AccessFlag\":\"открытая сеть\",\"Password\":\"\",\"Latitude_WGS84\":\"55.764303\",\"Longitude_WGS84\":\"37.705508\",\"global_id\":879795207},\"rowId\":null,\"releaseNumber\":32,\"versionNumber\":1},\"type\":\"Feature\"},{\"geometry\":{\"coordinates\":[37.571585,55.682787],\"type\":\"Point\"},\"properties\":{\"datasetId\":60789,\"attributes\":{\"is_deleted\":0,\"ID\":6,\"CinemaName\":\"Государственное бюджетное учреждение культуры города Москвы «Московское кино» Кинотеатр «Москино Салют»\",\"AdmArea\":\"Юго-Западный административный округ\",\"District\":\"Академический район\",\"Address\":\"Российская Федерация, город Москва, внутригородская территория муниципальный округ Академический, улица Кедрова, дом 14, корпус 1\",\"NumberOfAccessPoints\":3,\"WiFiName\":\"Moscow_WiFi_Free\",\"CoverageArea\":50,\"FunctionFlag\":\"действует\",\"AccessFlag\":\"открытая сеть\",\"Password\":\"\",\"Latitude_WGS84\":\"55.682787\",\"Longitude_WGS84\":\"37.571585\",\"global_id\":879795208},\"rowId\":null,\"releaseNumber\":32,\"versionNumber\":1},\"type\":\"Feature\"},{\"geometry\":{\"coordinates\":[37.802562,55.749841],\"type\":\"Point\"},\"properties\":{\"datasetId\":60789,\"attributes\":{\"is_deleted\":0,\"ID\":8,\"CinemaName\":\"Государственное бюджетное учреждение культуры города Москвы «Московское кино» Кинотеатр «Москино Березка»\",\"AdmArea\":\"Восточный административный округ\",\"District\":\"район Новогиреево\",\"Address\":\"Российская Федерация, город Москва, внутригородская территория муниципальный округ Новогиреево, Мартеновская улица, дом 25\",\"NumberOfAccessPoints\":6,\"WiFiName\":\"Moscow_WiFi_Free\",\"CoverageArea\":50,\"FunctionFlag\":\"действует\",\"AccessFlag\":\"открытая сеть\",\"Password\":\"\",\"Latitude_WGS84\":\"55.749841\",\"Longitude_WGS84\":\"37.802562\",\"global_id\":879795209},\"rowId\":null,\"releaseNumber\":32,\"versionNumber\":1},\"type\":\"Feature\"},{\"geometry\":{\"coordinates\":[37.513395,55.665309],\"type\":\"Point\"},\"properties\":{\"datasetId\":60789,\"attributes\":{\"is_deleted\":0,\"ID\":10,\"CinemaName\":\"Государственное бюджетное учреждение культуры города Москвы «Киноконцертный зал «Эльдар»\",\"AdmArea\":\"Юго-Западный административный округ\",\"District\":\"Обручевский район\",\"Address\":\"Российская Федерация, город Москва, внутригородская территория муниципальный округ Обручевский, Ленинский проспект, дом 105\",\"NumberOfAccessPoints\":5,\"WiFiName\":\"Moscow_WiFi_Free\",\"CoverageArea\":50,\"FunctionFlag\":\"действует\",\"AccessFlag\":\"открытая сеть\",\"Password\":\"\",\"Latitude_WGS84\":\"55.665309\",\"Longitude_WGS84\":\"37.513395\",\"global_id\":879795211},\"rowId\":null,\"releaseNumber\":32,\"versionNumber\":1},\"type\":\"Feature\"},{\"geometry\":{\"coordinates\":[37.716144,55.751817],\"type\":\"Point\"},\"properties\":{\"datasetId\":60789,\"attributes\":{\"is_deleted\":0,\"ID\":11,\"CinemaName\":\"Государственное бюджетное учреждение культуры города Москвы «Московское кино» Кинотеатр «Москино Факел»\",\"AdmArea\":\"Юго-Восточный административный округ\",\"District\":\"район Лефортово\",\"Address\":\"Российская Федерация, город Москва, внутригородская территория муниципальный округ Лефортово, шоссе Энтузиастов, дом 15/16\",\"NumberOfAccessPoints\":3,\"WiFiName\":\"Moscow_WiFi_Free\",\"CoverageArea\":50,\"FunctionFlag\":\"действует\",\"AccessFlag\":\"открытая сеть\",\"Password\":\"\",\"Latitude_WGS84\":\"55.751817\",\"Longitude_WGS84\":\"37.716144\",\"global_id\":879795212},\"rowId\":null,\"releaseNumber\":32,\"versionNumber\":1},\"type\":\"Feature\"}],\"type\":\"FeatureCollection\"}\n",
      "\n"
     ]
    }
   ],
   "source": [
    "print(mysoup.prettify())"
   ]
  },
  {
   "cell_type": "markdown",
   "metadata": {
    "id": "MTREZUPtlxmQ"
   },
   "source": [
    "**Задание 2.10.3.** Выполнить парсинг веб-страницы с помощью `Beautiful Soup`. Получить заголовок страницы"
   ]
  },
  {
   "cell_type": "code",
   "execution_count": 22,
   "metadata": {
    "id": "ZLysxT0Ul6oV",
    "scrolled": true
   },
   "outputs": [
    {
     "name": "stdout",
     "output_type": "stream",
     "text": [
      "None\n"
     ]
    }
   ],
   "source": [
    "print(mysoup.title)"
   ]
  }
 ],
 "metadata": {
  "colab": {
   "collapsed_sections": [
    "ay8fDlhJ-2UM",
    "L2HGb-AhpT0_",
    "P889_zJF-iam",
    "te7du-82_BGQ"
   ],
   "provenance": []
  },
  "kernelspec": {
   "display_name": "Python 3",
   "language": "python",
   "name": "python3"
  },
  "language_info": {
   "codemirror_mode": {
    "name": "ipython",
    "version": 3
   },
   "file_extension": ".py",
   "mimetype": "text/x-python",
   "name": "python",
   "nbconvert_exporter": "python",
   "pygments_lexer": "ipython3",
   "version": "3.10.11"
  }
 },
 "nbformat": 4,
 "nbformat_minor": 1
}
